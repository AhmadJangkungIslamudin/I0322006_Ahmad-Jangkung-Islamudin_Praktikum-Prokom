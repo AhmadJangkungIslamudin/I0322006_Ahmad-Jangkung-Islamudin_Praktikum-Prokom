{
 "cells": [
  {
   "cell_type": "code",
   "execution_count": 1,
   "metadata": {},
   "outputs": [
    {
     "name": "stdout",
     "output_type": "stream",
     "text": [
      "1 2 \n",
      "3 4 \n"
     ]
    },
    {
     "data": {
      "text/plain": [
       "[[1, 2], [3, 4]]"
      ]
     },
     "execution_count": 1,
     "metadata": {},
     "output_type": "execute_result"
    }
   ],
   "source": [
    "#Buatlah sebuah fungsi untuk membuat matrix berdasarkan input dari user\n",
    "\n",
    "def create_matrix(baris,kolom):\n",
    "    matrix = []\n",
    "    #\n",
    "    for i in range(baris):\n",
    "        matrix.append([])\n",
    "        for j in range(kolom):\n",
    "            elemen = int(input(f\"masukkan elemen matriks[{i}][{j}]: \"))\n",
    "            matrix[i].append(elemen)\n",
    "    #\n",
    "    for i in range(baris):\n",
    "        for j in range(kolom):\n",
    "            print(matrix[i][j], end=\" \")\n",
    "        print()\n",
    "    return matrix\n",
    "\n",
    "\n",
    "baris = int(input('Masukkan Jumlah Baris:\\t'))\n",
    "kolom = int(input('Masukkan Jumlah Kolom:\\t'))\n",
    "\n",
    "create_matrix(baris,kolom)"
   ]
  },
  {
   "cell_type": "code",
   "execution_count": 47,
   "metadata": {},
   "outputs": [
    {
     "name": "stdout",
     "output_type": "stream",
     "text": [
      "Matrix A: \n",
      "1 2 \n",
      "3 4 \n",
      "\n",
      "Matrix B: \n",
      "5 6 \n",
      "7 8 \n",
      "\n",
      "Hasil Penjumlahan\n",
      "6 8 \n",
      "10 12 \n"
     ]
    },
    {
     "data": {
      "text/plain": [
       "[[6, 8], [10, 12]]"
      ]
     },
     "execution_count": 47,
     "metadata": {},
     "output_type": "execute_result"
    }
   ],
   "source": [
    "#Buatlah sebuah fungsi untuk menambah dua matrix berdasarkan input user\n",
    "\n",
    "def tambah_matrix(matrix_1,matrix_2):\n",
    "    tambah = []\n",
    "    for i in range(len(matrix_1)) :\n",
    "        tambah.append([])\n",
    "        for j in range(len(matrix_1[0])) :\n",
    "            jumlah = matrix_1[i][j] + matrix_2[i][j]\n",
    "            tambah[i].append(jumlah)\n",
    "    print('\\nHasil Penjumlahan')\n",
    "    for i in range(len(tambah)) :\n",
    "        for j in range(len(tambah[0])) :\n",
    "            print(tambah[i][j], end=' ')\n",
    "        print()\n",
    "    return tambah\n",
    "\n",
    "baris = int(input('Masukkan Jumlah Baris:\\t'))\n",
    "kolom = int(input('Masukkan Jumlah Kolom:\\t'))\n",
    "\n",
    "matrix_A = []\n",
    "for i in range(baris):\n",
    "        matrix_A.append([])\n",
    "        for j in range(kolom):\n",
    "            elemen = int(input(f\"masukkan elemen matriks A[{i}][{j}]: \"))\n",
    "            matrix_A[i].append(elemen)\n",
    "print(\"Matrix A: \")\n",
    "for i in range(baris):\n",
    "    for j in range(kolom):\n",
    "        print(matrix_A[i][j], end=\" \")\n",
    "    print()\n",
    "\n",
    "matrix_B = []\n",
    "for i in range(baris):\n",
    "        matrix_B.append([])\n",
    "        for j in range(kolom):\n",
    "            elemen = int(input(f\"masukkan elemen matriks B[{i}][{j}]: \"))\n",
    "            matrix_B[i].append(elemen)\n",
    "print(\"\\nMatrix B: \")\n",
    "for i in range(baris):\n",
    "    for j in range(kolom):\n",
    "        print(matrix_B[i][j], end=\" \")\n",
    "    print()\n",
    "\n",
    "tambah_matrix(matrix_A, matrix_B)"
   ]
  },
  {
   "cell_type": "code",
   "execution_count": 50,
   "metadata": {},
   "outputs": [
    {
     "name": "stdout",
     "output_type": "stream",
     "text": [
      "Matrix 1: \n",
      "1 2 \n",
      "4 5 \n",
      "\n",
      "Matrix 2: \n",
      "9 8 \n",
      "6 5 \n",
      "\n",
      "Hasil Perkalian Matriks 1 dan Matriks 2: \n",
      "21 18 \n",
      "66 57 \n"
     ]
    },
    {
     "data": {
      "text/plain": [
       "[[21, 18], [66, 57]]"
      ]
     },
     "execution_count": 50,
     "metadata": {},
     "output_type": "execute_result"
    }
   ],
   "source": [
    "#Buatlah fungsi untuk mengakalikan dua buah matrix berdasarkan input user\n",
    "\n",
    "def multiply_matrix(matrix1, matrix2):\n",
    "    result=[]\n",
    "    #Tulis kode kamu disini\n",
    "    for x in range(0,len(matrix1)) :\n",
    "        row = []\n",
    "        for y in range(0,len(matrix1[0])) :\n",
    "            total = 0\n",
    "            for z in range(0,len(matrix1)) :\n",
    "                total = total + (matrix1[x][z] * matrix2[z][y])\n",
    "            row.append(total)\n",
    "        result.append(row)\n",
    "    print('\\nHasil Perkalian Matriks 1 dan Matriks 2: ')\n",
    "    for i in range(len(result)):\n",
    "        for j in range(len(result[0])) :\n",
    "            print(result[i][j], end=' ')\n",
    "        print()\n",
    "    return result\n",
    "\n",
    "baris = int(input('Masukkan Jumlah Baris:\\t'))\n",
    "kolom = int(input('Masukkan Jumlah Kolom:\\t'))\n",
    "\n",
    "matrix_1 = []\n",
    "for i in range(baris):\n",
    "        matrix_1.append([])\n",
    "        for j in range(kolom):\n",
    "            elemen = int(input(f\"masukkan elemen matriks 1[{i}][{j}]: \"))\n",
    "            matrix_1[i].append(elemen)\n",
    "print(\"Matrix 1: \")\n",
    "for i in range(baris):\n",
    "    for j in range(kolom):\n",
    "        print(matrix_1[i][j], end=\" \")\n",
    "    print()\n",
    "\n",
    "matrix_2 = []\n",
    "for i in range(baris):\n",
    "        matrix_2.append([])\n",
    "        for j in range(kolom):\n",
    "            elemen = int(input(f\"masukkan elemen matriks 2[{i}][{j}]: \"))\n",
    "            matrix_2[i].append(elemen)\n",
    "print(\"\\nMatrix 2: \")\n",
    "for i in range(baris):\n",
    "    for j in range(kolom):\n",
    "        print(matrix_2[i][j], end=\" \")\n",
    "    print()\n",
    "\n",
    "multiply_matrix(matrix_1, matrix_2)"
   ]
  }
 ],
 "metadata": {
  "kernelspec": {
   "display_name": "Python 3",
   "language": "python",
   "name": "python3"
  },
  "language_info": {
   "codemirror_mode": {
    "name": "ipython",
    "version": 3
   },
   "file_extension": ".py",
   "mimetype": "text/x-python",
   "name": "python",
   "nbconvert_exporter": "python",
   "pygments_lexer": "ipython3",
   "version": "3.11.2"
  },
  "orig_nbformat": 4
 },
 "nbformat": 4,
 "nbformat_minor": 2
}
