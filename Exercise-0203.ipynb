{
 "cells": [
  {
   "cell_type": "code",
   "execution_count": 12,
   "metadata": {},
   "outputs": [
    {
     "name": "stdout",
     "output_type": "stream",
     "text": [
      "Ahmad Jangkung Islamudin\n",
      "I0322006\n",
      "A\n"
     ]
    }
   ],
   "source": [
    "print(input(\"Nama: \"))\n",
    "print(input(\"NIM: \"))\n",
    "print(input(\"Kelas: \"))"
   ]
  },
  {
   "attachments": {},
   "cell_type": "markdown",
   "metadata": {},
   "source": [
    "## 1."
   ]
  },
  {
   "attachments": {},
   "cell_type": "markdown",
   "metadata": {},
   "source": [
    "buatlah program sederhana untuk menghitung umur pengguna dengan ketentuan sebagai berikut :\n",
    "* Program meminta pengguna memasukan tanggal, bulan, dan tahun lahir\n",
    "* Program menghitung umur pengguna hingga tanggal 1 januari 2023\n",
    "* Program menampilkan umur dari pengguna"
   ]
  },
  {
   "cell_type": "code",
   "execution_count": 17,
   "metadata": {},
   "outputs": [
    {
     "name": "stdout",
     "output_type": "stream",
     "text": [
      "Pengguna lahir pada tanggal 2 Februari 2004\n",
      "Jadi, umur pengguna adalah 18 tahun\n"
     ]
    }
   ],
   "source": [
    "tanggallahir = int(input(\"Masukkan tanggal lahir\"))\n",
    "bulanlahir = str(input(\"Masukkan Bulan Lahir\"))\n",
    "tahunlahir = int(input(\"Masukkan Tahun Lahir\"))\n",
    "\n",
    "#ketentuan menghitung umur pengguna hingga tgl 1 januari 2023\n",
    "if tanggallahir == 1:\n",
    "    if bulanlahir == \"Januari\":\n",
    "        umur = 2023 - tahunlahir\n",
    "else: umur = 2023 - tahunlahir - 1\n",
    "\n",
    "print(\"Pengguna lahir pada tanggal\", tanggallahir, bulanlahir, tahunlahir)\n",
    "print(\"Jadi, umur pengguna adalah\", umur, \"tahun\")\n",
    "\n"
   ]
  },
  {
   "attachments": {},
   "cell_type": "markdown",
   "metadata": {},
   "source": [
    "## 2."
   ]
  },
  {
   "attachments": {},
   "cell_type": "markdown",
   "metadata": {},
   "source": [
    "Pada 2015, wabah flu burung menyerang Indonesia dan beberapa peternak ayam mengalami kerugian karena banyaknya ayam yang mati. Setiap bulan, jumlah ayamnya berkurang menjadi setengah. Setelah dua bulan, jumlah ayam yang tersisa adalah 200 ekor. Hitunglah jumlah ayam sebelumnya yang dimiliki peternak tersebut! (gunakan rumus deret geometri)\n",
    "\n",
    "> *note: SOAL DIATAS DIKERJAKAN SESUAI DENGAN RUMUS BAKU*"
   ]
  },
  {
   "cell_type": "code",
   "execution_count": 3,
   "metadata": {},
   "outputs": [
    {
     "name": "stdout",
     "output_type": "stream",
     "text": [
      "Jumlah ayam sebelumnya yang dimiliki oleh peternak adalah 800.0 ekor\n"
     ]
    }
   ],
   "source": [
    "r  = 0.5\n",
    "n  = 3\n",
    "Un = U3 = 200 \n",
    "a  = []\n",
    "\n",
    "# ditanya suku awal (a)\n",
    "# Un = a*r**(n-1)\n",
    "\n",
    "a = Un/(r**(n-1))\n",
    "\n",
    "print(\"Jumlah ayam sebelumnya yang dimiliki oleh peternak adalah\", a, \"ekor\") "
   ]
  },
  {
   "attachments": {},
   "cell_type": "markdown",
   "metadata": {},
   "source": [
    "## 3. "
   ]
  },
  {
   "attachments": {},
   "cell_type": "markdown",
   "metadata": {},
   "source": [
    "* **A** Hitunglah luas Prisma Segitiga dengan ketentuan sebagai berikut:\n",
    "    * Alas dan tutup prisma merupakan segitiga\n",
    "    * Terdapat 3 persegi panjang yang menyinggung alas dan tutup prisma\n",
    "    * Sisi persegi panjang yang menyinggung segitiga adalah sisi lebar\n",
    "```python\n",
    "    dictionary_figure = {\"Persegi\":{\"Sisi\":22},\n",
    "                        \"Persegi Panjang\":{\"Panjang\":10,\"Lebar\":5},\n",
    "                        \"Segitiga Sama Sisi\":{\"Sisi\":6,\"Tinggi\":3**(1/2) * 3},\n",
    "                        \"Lingkaran\":{\"Diameter\":7}}\n",
    "```\n",
    "* **B** Hitunglah luas Tabung dengan ketentuan sebagai berikut:\n",
    "    * Alas dan tutup tabung merupakan lingkaran\n",
    "    * Terdapat 1 persegi yang menyinggung alas dan tutup tabung\n",
    "    * Persegi yang ada mengelilingi lingkaran hingga sisi dari persegi saling bertemu\n",
    "\n",
    "> *note: Pada soal ini kalian hanya boleh menggunakan key-value pair dan index pada list. Tidak diperbolehkan menulis secara langsung dimensi dari figure*"
   ]
  },
  {
   "cell_type": "code",
   "execution_count": 4,
   "metadata": {},
   "outputs": [
    {
     "name": "stdout",
     "output_type": "stream",
     "text": [
      "Luas permukaan prisma segitiga adalah 181.1769145362398\n",
      "Luas permukaan tabung adalah 561.0\n"
     ]
    }
   ],
   "source": [
    "dictionary_figure = {\"Persegi\":{\"Sisi\":22},\n",
    "                        \"Persegi Panjang\":{\"Panjang\":10,\"Lebar\":5},\n",
    "                        \"Segitiga Sama Sisi\":{\"Sisi\":6,\"Tinggi\":3**(1/2) * 3},\n",
    "                        \"Lingkaran\":{\"Diameter\":7}}\n",
    "\n",
    "sisisegitiga = (dictionary_figure[\"Segitiga Sama Sisi\"][\"Sisi\"])\n",
    "tinggisegitiga = (dictionary_figure[\"Segitiga Sama Sisi\"][\"Tinggi\"])\n",
    "panjang = (dictionary_figure[\"Persegi Panjang\"][\"Panjang\"])\n",
    "lebar = (dictionary_figure[\"Persegi Panjang\"][\"Lebar\"])\n",
    "diameter = (dictionary_figure[\"Lingkaran\"][\"Diameter\"])\n",
    "sisi = (dictionary_figure[\"Persegi\"][\"Sisi\"])\n",
    "#A\n",
    "luasprisma = 1/2*2*sisisegitiga*tinggisegitiga+3*panjang*lebar\n",
    "print(\"Luas permukaan prisma segitiga adalah\", luasprisma)\n",
    "#B\n",
    "luastabung = 2*22/7*(diameter*1/2)**2 + sisi**2\n",
    "print(\"Luas permukaan tabung adalah\", luastabung)\n"
   ]
  }
 ],
 "metadata": {
  "kernelspec": {
   "display_name": "Python 3",
   "language": "python",
   "name": "python3"
  },
  "language_info": {
   "codemirror_mode": {
    "name": "ipython",
    "version": 3
   },
   "file_extension": ".py",
   "mimetype": "text/x-python",
   "name": "python",
   "nbconvert_exporter": "python",
   "pygments_lexer": "ipython3",
   "version": "3.11.2"
  },
  "orig_nbformat": 4,
  "vscode": {
   "interpreter": {
    "hash": "5addf786bcd861d1ce5006f23111f8cbb206731e5b61b0a5632ba9e0252558a8"
   }
  }
 },
 "nbformat": 4,
 "nbformat_minor": 2
}
