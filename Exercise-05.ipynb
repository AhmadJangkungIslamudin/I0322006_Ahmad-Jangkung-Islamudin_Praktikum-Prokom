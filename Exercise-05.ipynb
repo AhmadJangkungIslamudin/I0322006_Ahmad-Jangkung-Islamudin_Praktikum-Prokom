{
 "cells": [
  {
   "attachments": {},
   "cell_type": "markdown",
   "metadata": {},
   "source": [
    "1. Buatlah program untuk menampilkan total penjumlahan bilangan ganjil dan total penjumlahan bilangan genap dengan input dari user berupa range (batas atas dan batas bawah)!"
   ]
  },
  {
   "cell_type": "code",
   "execution_count": 36,
   "metadata": {},
   "outputs": [
    {
     "name": "stdout",
     "output_type": "stream",
     "text": [
      "Dari bilangan range (2, 10)\n",
      "Total penjumlahan bilangan ganjilnya adalah 24\n",
      "Total penjumlahan bilangan genapnya adalah 30\n"
     ]
    }
   ],
   "source": [
    "# Kerjakan nomor 1 di sini\n",
    "batas_bawah = int(input(\"Masukkan batas bawah: \"))\n",
    "batas_atas = int(input(\"Masukkan batas atas: \"))\n",
    "\n",
    "total_ganjil = 0\n",
    "total_genap = 0\n",
    "\n",
    "for bilangan in range(batas_bawah, batas_atas + 1):\n",
    "    if bilangan % 2 == 0:\n",
    "        total_genap += bilangan \n",
    "    else:\n",
    "        total_ganjil += bilangan\n",
    "\n",
    "print(f'Dari bilangan range ({batas_bawah}, {batas_atas})')\n",
    "print(\"Total penjumlahan bilangan ganjilnya adalah\", total_ganjil)\n",
    "print(\"Total penjumlahan bilangan genapnya adalah\", total_genap)\n"
   ]
  },
  {
   "attachments": {},
   "cell_type": "markdown",
   "metadata": {},
   "source": [
    "2. Buatlah sebuah list yang berisi daftar makanan khas daerah (minimal 10 makanan termasuk makanan khas Solo). Kemudian buat program pencarian menggunakan pengulangan. Apabila nama makanan yang user inputkan sudah sesuai dengan isi list maka program akan berhenti dan menampilkan output \"(makanan yang diinput user) adalah makanan khas daerah\"."
   ]
  },
  {
   "cell_type": "code",
   "execution_count": 28,
   "metadata": {},
   "outputs": [
    {
     "name": "stdout",
     "output_type": "stream",
     "text": [
      "Gudeg adalah makanan khas daerah.\n"
     ]
    }
   ],
   "source": [
    "# Kerjakan nomor 2 di sini\n",
    "makanan_khas = ['selat solo', 'sate buntel', 'cabuk rambak', 'timlo solo', \n",
    "                'nasi liwet', 'serabi', 'sweke', 'nasi gandul', 'lumpia', 'rawon', 'gulai', 'gudeg']\n",
    "\n",
    "user_makanan = str(input('Masukkan nama makanan : '))\n",
    "\n",
    "for i in makanan_khas:\n",
    "    if user_makanan.lower() == i.lower():\n",
    "        print(user_makanan.capitalize(), 'adalah makanan khas daerah.')\n",
    "        break\n",
    "else:\n",
    "    print(user_makanan.capitalize(), 'bukan makanan khas daerah.')\n"
   ]
  },
  {
   "attachments": {},
   "cell_type": "markdown",
   "metadata": {},
   "source": [
    "3. Buatlah program untuk menghitung rata-rata 7 bilangan dimana bilangan-bilangan tersebut didapat melalui input user!"
   ]
  },
  {
   "cell_type": "code",
   "execution_count": 33,
   "metadata": {},
   "outputs": [
    {
     "name": "stdout",
     "output_type": "stream",
     "text": [
      "Dari bilangan 7.0 , 6.0 , 5.0 , 3.2 , 2.1 , 2.5 , 1.5\n",
      "Rata-ratanya adalah 3.9\n"
     ]
    }
   ],
   "source": [
    "# Kerjakan nomor 3 di sini\n",
    "no1 = float(input('Masukkan Angka pertama : '))\n",
    "no2 = float(input('Masukkan Angka kedua : '))\n",
    "no3 = float(input('Masukkan Angka ketiga : '))\n",
    "no4 = float(input('Masukkan Angka keempat : '))\n",
    "no5 = float(input('Masukkan Angka kelima : '))\n",
    "no6 = float(input('Masukkan Angka keenam : '))\n",
    "no7 = float(input('Masukkan Angka ketujuh : '))\n",
    "\n",
    "ratarata = (no1+no2+no3+no4+no5+no6+no7)/7\n",
    "\n",
    "print('Dari bilangan', no1,',',no2,',',no3,',',no4,',',no5,',',no6,',',no7)\n",
    "print('Rata-ratanya adalah', ratarata)\n"
   ]
  }
 ],
 "metadata": {
  "kernelspec": {
   "display_name": "Python 3",
   "language": "python",
   "name": "python3"
  },
  "language_info": {
   "codemirror_mode": {
    "name": "ipython",
    "version": 3
   },
   "file_extension": ".py",
   "mimetype": "text/x-python",
   "name": "python",
   "nbconvert_exporter": "python",
   "pygments_lexer": "ipython3",
   "version": "3.11.2"
  },
  "orig_nbformat": 4
 },
 "nbformat": 4,
 "nbformat_minor": 2
}
